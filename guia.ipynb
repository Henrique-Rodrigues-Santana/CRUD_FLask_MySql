{
 "cells": [
  {
   "cell_type": "markdown",
   "metadata": {},
   "source": [
    "### Criando CRUD simples utilizando Flask e MySql\n",
    "\n",
    "#### Bibliotecas Utilizadas\n",
    "    - flask\n",
    "    - flask-MySQLdb"
   ]
  }
 ],
 "metadata": {
  "language_info": {
   "name": "python"
  }
 },
 "nbformat": 4,
 "nbformat_minor": 2
}
